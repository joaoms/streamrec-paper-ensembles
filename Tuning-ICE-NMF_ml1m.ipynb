{
 "cells": [
  {
   "cell_type": "markdown",
   "metadata": {},
   "source": [
    "# ICE-NMF Evaluation ml1m"
   ]
  },
  {
   "cell_type": "code",
   "execution_count": 7,
   "metadata": {},
   "outputs": [],
   "source": [
    "#imports\n",
    "import numpy as np \n",
    "import csv\n",
    "import re\n",
    "import sys\n",
    "import math\n",
    "import matplotlib.pyplot as plt\n",
    "from numpy import linalg as L\n",
    "import pandas as pd\n",
    "import random\n",
    "from sklearn.preprocessing import normalize\n",
    "from numba import njit\n",
    "from collections import defaultdict\n",
    "import random\n",
    "from implicit_data import ImplicitData\n",
    "import pandas as pd\n",
    "from BISGD import BISGD\n",
    "from ICE_NMF import ICE_NMF\n",
    "from collections import defaultdict\n",
    "from EvalPrequential import EvalPrequential\n",
    "from datetime import datetime\n",
    "import getopt"
   ]
  },
  {
   "cell_type": "markdown",
   "metadata": {},
   "source": [
    "## Functions\n"
   ]
  },
  {
   "cell_type": "code",
   "execution_count": 8,
   "metadata": {},
   "outputs": [],
   "source": [
    "def sigmoid(x):\n",
    "  return 1 / (1 + math.exp(-x))\n",
    "\n",
    "def sumvector(V,x):\n",
    "    result = []\n",
    "    for v in V:\n",
    "        temp = v + x\n",
    "        result.append(temp)\n",
    "    return result    \n",
    "\n",
    "def multvector(x,V):\n",
    "    result = []\n",
    "    for v in V:\n",
    "        temp = v * x\n",
    "        result.append(temp)\n",
    "    return result    \n",
    "\n",
    "def TransformVec(V):\n",
    "    for i in range(len(V)):\n",
    "        V[i] = sigmoid(V[i])\n",
    "    D = LA.norm(V)\n",
    "    D=1/D\n",
    "    new = D * V\n",
    "  \n",
    "\n",
    "    return new\n"
   ]
  },
  {
   "cell_type": "markdown",
   "metadata": {},
   "source": [
    "## Get the data"
   ]
  },
  {
   "cell_type": "code",
   "execution_count": 9,
   "metadata": {},
   "outputs": [
    {
     "name": "stdout",
     "output_type": "stream",
     "text": [
      "        UserID  ItemID   Timestamp\n",
      "0         6040     593   956703954\n",
      "1         6040    2019   956703977\n",
      "2         6040     213   956704056\n",
      "3         6040    3111   956704056\n",
      "4         6040     912   956704191\n",
      "...        ...     ...         ...\n",
      "226305    5950    3363  1046367948\n",
      "226306    5950     111  1046368241\n",
      "226307    5950    3196  1046368462\n",
      "226308    5948    1180  1046437879\n",
      "226309    4958    1407  1046454443\n",
      "\n",
      "[226310 rows x 3 columns]\n"
     ]
    }
   ],
   "source": [
    "sys.path.append('./')\n",
    "configPath = 'config'\n",
    "dataPath = 'ml1m_gte5.csv'\n",
    "\n",
    "\n",
    "Data = []\n",
    "data = pd.read_csv(\"ml1m_gte5.csv\",\"\\t\")\n",
    "print(data)\n",
    "Data = data.values.tolist()\n",
    "\n"
   ]
  },
  {
   "cell_type": "markdown",
   "metadata": {},
   "source": [
    "# Full dataset"
   ]
  },
  {
   "cell_type": "code",
   "execution_count": 10,
   "metadata": {},
   "outputs": [],
   "source": [
    "Data_Transpose = np.transpose(Data[:50000])\n",
    "stream = ImplicitData(Data_Transpose[0],Data_Transpose[1])\n",
    "\n",
    "\n",
    "\n",
    "overlap = {0.6,0.7,0.8}\n",
    "num_clusters = {8,16,24}\n",
    "cl_num_iterations = 10\n",
    "cl_learn_rate =0.1\n",
    "cl_regularization = 0.1\n",
    "num_factors = 160\n",
    "num_iter = 8\n",
    "learn_rate = 0.1\n",
    "regularization = 0.4\n"
   ]
  },
  {
   "cell_type": "code",
   "execution_count": 11,
   "metadata": {},
   "outputs": [],
   "source": [
    "%%capture out\n",
    "\n",
    "tuning = {}\n",
    "\n",
    "for num in num_clusters:\n",
    "    tuning[num] = {}\n",
    "    \n",
    "    \n",
    "    for val in overlap:\n",
    "\n",
    "        print(\"\")\n",
    "        print(\"num_clusters = \", num, \", overlap = \", val)\n",
    "        model = ICE_NMF(ImplicitData([],[]), num, val, cl_num_iterations, cl_learn_rate, cl_regularization, \n",
    "        num_factors, num_iter, learn_rate, regularization, random_seed = 100)\n",
    "        eval = EvalPrequential(model,stream, metrics = [\"Recall@20\"])\n",
    "\n",
    "        start_recommend = datetime.now()\n",
    "        print('start time', start_recommend)\n",
    "\n",
    "        results=eval.EvaluateTime(0,stream.size, 100)\n",
    "\n",
    "        end_recommend = datetime.now()\n",
    "        print('end time', end_recommend)\n",
    "\n",
    "        tempo = end_recommend - start_recommend\n",
    "\n",
    "        tuning[num][val] = np.mean(results['Recall@20'])\n",
    "    \n",
    "        print('npmean(resuls[Recall@20])', tuning[num][val])\n",
    "        print('run time', tempo)\n",
    "        #print('get tuple',np.mean(results['time_get_tuple']))\n",
    "        print('recommend',np.mean(results['time_recommend']))\n",
    "        #print('eval_point',np.mean(results['time_eval_point']))\n",
    "        print('update',np.mean(results['time_update'])) "
   ]
  },
  {
   "cell_type": "code",
   "execution_count": 12,
   "metadata": {},
   "outputs": [
    {
     "name": "stdout",
     "output_type": "stream",
     "text": [
      "\n",
      "num_clusters =  8 , overlap =  0.6\n",
      "start time 2023-11-23 11:50:24.196539\n",
      "end time 2023-11-23 11:51:27.223509\n",
      "npmean(resuls[Recall@20]) 0.08823529411764706\n",
      "run time 0:01:03.026970\n",
      "recommend 0.018119482900582108\n",
      "update 0.0010697458457946778\n",
      "\n",
      "num_clusters =  8 , overlap =  0.7\n",
      "start time 2023-11-23 11:51:27.259524\n",
      "end time 2023-11-23 11:52:35.639903\n",
      "npmean(resuls[Recall@20]) 0.08906882591093117\n",
      "run time 0:01:08.380379\n",
      "recommend 0.01802161492799458\n",
      "update 0.0011835494518280028\n",
      "\n",
      "num_clusters =  8 , overlap =  0.8\n",
      "start time 2023-11-23 11:52:35.665501\n",
      "end time 2023-11-23 11:53:41.735236\n",
      "npmean(resuls[Recall@20]) 0.08278867102396514\n",
      "run time 0:01:06.069735\n",
      "recommend 0.018203794566634433\n",
      "update 0.0011484846067428588\n",
      "\n",
      "num_clusters =  16 , overlap =  0.6\n",
      "start time 2023-11-23 11:53:41.766588\n",
      "end time 2023-11-23 11:55:25.742226\n",
      "npmean(resuls[Recall@20]) 0.0743801652892562\n",
      "run time 0:01:43.975638\n",
      "recommend 0.03906157243350321\n",
      "update 0.0016952106618881226\n",
      "\n",
      "num_clusters =  16 , overlap =  0.7\n",
      "start time 2023-11-23 11:55:25.783515\n",
      "end time 2023-11-23 11:57:15.493759\n",
      "npmean(resuls[Recall@20]) 0.10810810810810811\n",
      "run time 0:01:49.710244\n",
      "recommend 0.03870300344518713\n",
      "update 0.001786912293434143\n",
      "\n",
      "num_clusters =  16 , overlap =  0.8\n",
      "start time 2023-11-23 11:57:15.544713\n",
      "end time 2023-11-23 11:59:18.481182\n",
      "npmean(resuls[Recall@20]) 0.08757637474541752\n",
      "run time 0:02:02.936469\n",
      "recommend 0.03886302425516599\n",
      "update 0.002070752782821655\n",
      "\n",
      "num_clusters =  24 , overlap =  0.6\n",
      "start time 2023-11-23 11:59:18.528159\n",
      "end time 2023-11-23 12:01:37.915145\n",
      "npmean(resuls[Recall@20]) 0.08757637474541752\n",
      "run time 0:02:19.386986\n",
      "recommend 0.061792216815676565\n",
      "update 0.002174643921852112\n",
      "\n",
      "num_clusters =  24 , overlap =  0.7\n",
      "start time 2023-11-23 12:01:37.983213\n",
      "end time 2023-11-23 12:04:13.936498\n",
      "npmean(resuls[Recall@20]) 0.10756972111553785\n",
      "run time 0:02:35.953285\n",
      "recommend 0.06193290526173504\n",
      "update 0.0024909879446029662\n",
      "\n",
      "num_clusters =  24 , overlap =  0.8\n",
      "start time 2023-11-23 12:04:14.001583\n",
      "end time 2023-11-23 12:07:04.061069\n",
      "npmean(resuls[Recall@20]) 0.09885931558935361\n",
      "run time 0:02:50.059486\n",
      "recommend 0.061727621256171976\n",
      "update 0.0027454402446746825\n",
      "\n"
     ]
    }
   ],
   "source": [
    "print(out)"
   ]
  },
  {
   "cell_type": "code",
   "execution_count": 13,
   "metadata": {},
   "outputs": [
    {
     "data": {
      "text/plain": [
       "{8: {0.6: 0.08823529411764706,\n",
       "  0.7: 0.08906882591093117,\n",
       "  0.8: 0.08278867102396514},\n",
       " 16: {0.6: 0.0743801652892562,\n",
       "  0.7: 0.10810810810810811,\n",
       "  0.8: 0.08757637474541752},\n",
       " 24: {0.6: 0.08757637474541752,\n",
       "  0.7: 0.10756972111553785,\n",
       "  0.8: 0.09885931558935361}}"
      ]
     },
     "execution_count": 13,
     "metadata": {},
     "output_type": "execute_result"
    }
   ],
   "source": [
    "tuning"
   ]
  },
  {
   "cell_type": "code",
   "execution_count": null,
   "metadata": {},
   "outputs": [],
   "source": []
  }
 ],
 "metadata": {
  "kernelspec": {
   "display_name": "Python Base Conda",
   "language": "python",
   "name": "python-base-conda"
  },
  "language_info": {
   "codemirror_mode": {
    "name": "ipython",
    "version": 3
   },
   "file_extension": ".py",
   "mimetype": "text/x-python",
   "name": "python",
   "nbconvert_exporter": "python",
   "pygments_lexer": "ipython3",
   "version": "3.7.6"
  }
 },
 "nbformat": 4,
 "nbformat_minor": 4
}
