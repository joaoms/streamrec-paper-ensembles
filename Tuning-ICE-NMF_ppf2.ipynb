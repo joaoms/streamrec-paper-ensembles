{
 "cells": [
  {
   "cell_type": "markdown",
   "metadata": {},
   "source": [
    "# ICE-NMF Hyperparameter tuning ppf2"
   ]
  },
  {
   "cell_type": "code",
   "execution_count": 1,
   "metadata": {},
   "outputs": [],
   "source": [
    "#imports\n",
    "import numpy as np \n",
    "import csv\n",
    "import re\n",
    "import sys\n",
    "import math\n",
    "import matplotlib.pyplot as plt\n",
    "from numpy import linalg as LA\n",
    "import random\n",
    "from sklearn.preprocessing import normalize\n",
    "from numba import njit\n",
    "from collections import defaultdict\n",
    "import random\n",
    "from implicit_data import ImplicitData\n",
    "import numpy as np\n",
    "from BISGD import BISGD\n",
    "from ICE_NMF import ICE_NMF\n",
    "from collections import defaultdict\n",
    "from EvalPrequential import EvalPrequential\n",
    "from datetime import datetime\n",
    "import getopt\n",
    "import pandas as pd"
   ]
  },
  {
   "cell_type": "markdown",
   "metadata": {},
   "source": [
    "## Functions\n"
   ]
  },
  {
   "cell_type": "code",
   "execution_count": 2,
   "metadata": {},
   "outputs": [],
   "source": [
    "def sigmoid(x):\n",
    "  return 1 / (1 + math.exp(-x))\n",
    "\n",
    "def sumvector(V,x):\n",
    "    result = []\n",
    "    for v in V:\n",
    "        temp = v + x\n",
    "        result.append(temp)\n",
    "    return result    \n",
    "\n",
    "def multvector(x,V):\n",
    "    result = []\n",
    "    for v in V:\n",
    "        temp = v * x\n",
    "        result.append(temp)\n",
    "    return result    \n",
    "\n",
    "def TransformVec(V):\n",
    "  \n",
    "    #new = normalize(V[:,np.newaxis], axis=0).ravel()\n",
    "    for i in range(len(V)):\n",
    "        V[i] = sigmoid(V[i])\n",
    "    D = LA.norm(V)\n",
    "    D=1/D\n",
    "    new = D * V\n",
    "  \n",
    "\n",
    "    return new\n"
   ]
  },
  {
   "cell_type": "markdown",
   "metadata": {},
   "source": [
    "## Get the data"
   ]
  },
  {
   "cell_type": "code",
   "execution_count": 3,
   "metadata": {},
   "outputs": [],
   "source": [
    "sys.path.append('./')\n",
    "configPath = 'config'\n",
    "dataPath = 'ppf2.csv'\n",
    "\n",
    "Data = []\n",
    "with open(dataPath, 'r') as f:\n",
    "    reader = csv.reader(f)\n",
    "    for row in reader:\n",
    "        Data.append([float(row[0]),float(row[1])])\n"
   ]
  },
  {
   "cell_type": "code",
   "execution_count": 4,
   "metadata": {},
   "outputs": [],
   "source": [
    "Data_Transpose = np.transpose(Data[:50000])\n",
    "stream = ImplicitData(Data_Transpose[0],Data_Transpose[1])\n",
    "\n",
    "\n",
    "\n",
    "num_clusters = {8,16,24}\n",
    "cl_num_iterations = 10\n",
    "cl_learn_rate =0.1\n",
    "cl_regularization = 0.1\n",
    "num_factors = 90\n",
    "num_iter = 8\n",
    "learn_rate = 0.3\n",
    "regularization = 0.4\n",
    "overlap = {0.6,0.7,0.8}\n",
    "\n"
   ]
  },
  {
   "cell_type": "code",
   "execution_count": 5,
   "metadata": {},
   "outputs": [],
   "source": [
    "%%capture out\n",
    "\n",
    "tuning = {}\n",
    "\n",
    "for num in num_clusters:\n",
    "    tuning[num] = {}\n",
    "    \n",
    "    \n",
    "    for val in overlap:\n",
    "\n",
    "        print(\"\")\n",
    "        print(\"num_clusters = \", num, \", overlap = \", val)\n",
    "        model = ICE_NMF(ImplicitData([],[]), num, val, cl_num_iterations, cl_learn_rate, cl_regularization, \n",
    "        num_factors, num_iter, learn_rate, regularization, random_seed = 100)\n",
    "        eval = EvalPrequential(model,stream, metrics = [\"Recall@20\"])\n",
    "\n",
    "        start_recommend = datetime.now()\n",
    "        print('start time', start_recommend)\n",
    "\n",
    "        results=eval.EvaluateTime(0,stream.size, 100)\n",
    "\n",
    "        end_recommend = datetime.now()\n",
    "        print('end time', end_recommend)\n",
    "\n",
    "        tempo = end_recommend - start_recommend\n",
    "\n",
    "        tuning[num][val] = np.mean(results['Recall@20'])\n",
    "    \n",
    "        print('npmean(resuls[Recall@20])', tuning[num][val])\n",
    "        print('run time', tempo)\n",
    "        #print('get tuple',np.mean(results['time_get_tuple']))\n",
    "        print('recommend',np.mean(results['time_recommend']))\n",
    "        #print('eval_point',np.mean(results['time_eval_point']))\n",
    "        print('update',np.mean(results['time_update'])) "
   ]
  },
  {
   "cell_type": "code",
   "execution_count": 6,
   "metadata": {},
   "outputs": [
    {
     "name": "stdout",
     "output_type": "stream",
     "text": [
      "\n",
      "num_clusters =  8 , overlap =  0.6\n",
      "start time 2023-11-23 10:51:47.792109\n",
      "end time 2023-11-23 10:53:06.826357\n",
      "npmean(resuls[Recall@20]) 0.27104722792607805\n",
      "run time 0:01:19.034248\n",
      "recommend 0.058316431495932824\n",
      "update 0.00100750319480896\n",
      "\n",
      "num_clusters =  8 , overlap =  0.7\n",
      "start time 2023-11-23 10:53:06.923808\n",
      "end time 2023-11-23 10:54:32.825561\n",
      "npmean(resuls[Recall@20]) 0.33458646616541354\n",
      "run time 0:01:25.901753\n",
      "recommend 0.05689166228574021\n",
      "update 0.0011074361324310302\n",
      "\n",
      "num_clusters =  8 , overlap =  0.8\n",
      "start time 2023-11-23 10:54:32.929608\n",
      "end time 2023-11-23 10:56:01.523014\n",
      "npmean(resuls[Recall@20]) 0.3082706766917293\n",
      "run time 0:01:28.593406\n",
      "recommend 0.06192427515087271\n",
      "update 0.0011076207208633422\n",
      "\n",
      "num_clusters =  16 , overlap =  0.6\n",
      "start time 2023-11-23 10:56:01.626196\n",
      "end time 2023-11-23 10:58:22.666564\n",
      "npmean(resuls[Recall@20]) 0.3603238866396761\n",
      "run time 0:02:21.040368\n",
      "recommend 0.12816133190263138\n",
      "update 0.0015490673446655273\n",
      "\n",
      "num_clusters =  16 , overlap =  0.7\n",
      "start time 2023-11-23 10:58:22.867626\n",
      "end time 2023-11-23 11:00:41.416867\n",
      "npmean(resuls[Recall@20]) 0.3172690763052209\n",
      "run time 0:02:18.549241\n",
      "recommend 0.11697806794959378\n",
      "update 0.0016006041717529296\n",
      "\n",
      "num_clusters =  16 , overlap =  0.8\n",
      "start time 2023-11-23 11:00:41.617651\n",
      "end time 2023-11-23 11:03:11.766678\n",
      "npmean(resuls[Recall@20]) 0.30991735537190085\n",
      "run time 0:02:30.149027\n",
      "recommend 0.1251701520494193\n",
      "update 0.0017860037517547606\n",
      "\n",
      "num_clusters =  24 , overlap =  0.6\n",
      "start time 2023-11-23 11:03:11.935596\n",
      "end time 2023-11-23 11:06:36.009813\n",
      "npmean(resuls[Recall@20]) 0.33516483516483514\n",
      "run time 0:03:24.074217\n",
      "recommend 0.19301614831218789\n",
      "update 0.001968243656158447\n",
      "\n",
      "num_clusters =  24 , overlap =  0.7\n",
      "start time 2023-11-23 11:06:36.289762\n",
      "end time 2023-11-23 11:10:08.284220\n",
      "npmean(resuls[Recall@20]) 0.3182711198428291\n",
      "run time 0:03:31.994458\n",
      "recommend 0.1956902112379992\n",
      "update 0.00224229145526886\n",
      "\n",
      "num_clusters =  24 , overlap =  0.8\n",
      "start time 2023-11-23 11:10:08.486896\n",
      "end time 2023-11-23 11:13:52.843271\n",
      "npmean(resuls[Recall@20]) 0.32388663967611336\n",
      "run time 0:03:44.356375\n",
      "recommend 0.20169967437080044\n",
      "update 0.002488720598220825\n",
      "\n"
     ]
    }
   ],
   "source": [
    "print(out)"
   ]
  },
  {
   "cell_type": "code",
   "execution_count": 7,
   "metadata": {},
   "outputs": [
    {
     "data": {
      "text/plain": [
       "{8: {0.6: 0.27104722792607805,\n",
       "  0.7: 0.33458646616541354,\n",
       "  0.8: 0.3082706766917293},\n",
       " 16: {0.6: 0.3603238866396761,\n",
       "  0.7: 0.3172690763052209,\n",
       "  0.8: 0.30991735537190085},\n",
       " 24: {0.6: 0.33516483516483514,\n",
       "  0.7: 0.3182711198428291,\n",
       "  0.8: 0.32388663967611336}}"
      ]
     },
     "execution_count": 7,
     "metadata": {},
     "output_type": "execute_result"
    }
   ],
   "source": [
    "tuning"
   ]
  },
  {
   "cell_type": "code",
   "execution_count": null,
   "metadata": {},
   "outputs": [],
   "source": []
  }
 ],
 "metadata": {
  "kernelspec": {
   "display_name": "Python Base Conda",
   "language": "python",
   "name": "python-base-conda"
  },
  "language_info": {
   "codemirror_mode": {
    "name": "ipython",
    "version": 3
   },
   "file_extension": ".py",
   "mimetype": "text/x-python",
   "name": "python",
   "nbconvert_exporter": "python",
   "pygments_lexer": "ipython3",
   "version": "3.7.6"
  }
 },
 "nbformat": 4,
 "nbformat_minor": 4
}
