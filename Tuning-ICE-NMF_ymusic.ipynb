{
 "cells": [
  {
   "cell_type": "markdown",
   "metadata": {},
   "source": [
    "# ICE-NMF Evaluation ymusic"
   ]
  },
  {
   "cell_type": "code",
   "execution_count": 7,
   "metadata": {},
   "outputs": [],
   "source": [
    "#imports\n",
    "import numpy as np \n",
    "import csv\n",
    "import re\n",
    "import sys\n",
    "import math\n",
    "from numpy import linalg as L\n",
    "import pandas as pd\n",
    "import random\n",
    "from sklearn.preprocessing import normalize\n",
    "from numba import njit\n",
    "from collections import defaultdict\n",
    "import random\n",
    "from implicit_data import ImplicitData\n",
    "import pandas as pd\n",
    "from BISGD import BISGD\n",
    "from ICE_NMF import ICE_NMF\n",
    "from collections import defaultdict\n",
    "from EvalPrequential import EvalPrequential\n",
    "from datetime import datetime\n",
    "import getopt"
   ]
  },
  {
   "cell_type": "markdown",
   "metadata": {},
   "source": [
    "## Functions\n"
   ]
  },
  {
   "cell_type": "code",
   "execution_count": 8,
   "metadata": {},
   "outputs": [],
   "source": [
    "def sigmoid(x):\n",
    "  return 1 / (1 + math.exp(-x))\n",
    "\n",
    "def sumvector(V,x):\n",
    "    result = []\n",
    "    for v in V:\n",
    "        temp = v + x\n",
    "        result.append(temp)\n",
    "    return result    \n",
    "\n",
    "def multvector(x,V):\n",
    "    result = []\n",
    "    for v in V:\n",
    "        temp = v * x\n",
    "        result.append(temp)\n",
    "    return result    \n",
    "\n",
    "def TransformVec(V):\n",
    "    for i in range(len(V)):\n",
    "        V[i] = sigmoid(V[i])\n",
    "    D = LA.norm(V)\n",
    "    D=1/D\n",
    "    new = D * V\n",
    "  \n",
    "\n",
    "    return new\n"
   ]
  },
  {
   "cell_type": "markdown",
   "metadata": {},
   "source": [
    "## Get the data"
   ]
  },
  {
   "cell_type": "code",
   "execution_count": 9,
   "metadata": {},
   "outputs": [
    {
     "name": "stdout",
     "output_type": "stream",
     "text": [
      "       user_id  item_id\n",
      "0       378723   124036\n",
      "1       378723   608145\n",
      "2       378723    48098\n",
      "3       378723    80338\n",
      "4       378723   334716\n",
      "...        ...      ...\n",
      "45995   295010   506081\n",
      "45996   382938    74722\n",
      "45997   221033   158827\n",
      "45998   221033   603920\n",
      "45999   221033    26129\n",
      "\n",
      "[46000 rows x 2 columns]\n"
     ]
    }
   ],
   "source": [
    "sys.path.append('./')\n",
    "configPath = 'config'\n",
    "dataPath = 'ymusic_gte90_6kusers.tsv'\n",
    "\n",
    "\n",
    "Data = []\n",
    "data = pd.read_csv(\"ymusic_gte90_6kusers.tsv\",\"\\t\")\n",
    "data = data.head(n=46000)\n",
    "print(data)\n",
    "Data = data.values.tolist()\n",
    "\n"
   ]
  },
  {
   "cell_type": "markdown",
   "metadata": {},
   "source": [
    "# Full dataset"
   ]
  },
  {
   "cell_type": "code",
   "execution_count": 14,
   "metadata": {},
   "outputs": [],
   "source": [
    "\n",
    "Data_Transpose = np.transpose(Data[:50000])\n",
    "stream = ImplicitData(Data_Transpose[0],Data_Transpose[1])\n",
    "\n",
    "num_clusters = {8,16,24}\n",
    "cl_num_iterations = 10\n",
    "cl_learn_rate = 0.1\n",
    "cl_regularization = 0.1\n",
    "num_factors = 200\n",
    "num_iter = 9\n",
    "learn_rate = 0.25\n",
    "regularization = 0.45\n",
    "overlap = {0.6,0.7,0.8}\n"
   ]
  },
  {
   "cell_type": "code",
   "execution_count": 15,
   "metadata": {},
   "outputs": [],
   "source": [
    "%%capture out\n",
    "\n",
    "tuning = {}\n",
    "\n",
    "for num in num_clusters:\n",
    "    tuning[num] = {}\n",
    "    \n",
    "    \n",
    "    for val in overlap:\n",
    "\n",
    "        print(\"\")\n",
    "        print(\"num_clusters = \", num, \", overlap = \", val)\n",
    "        model = ICE_NMF(ImplicitData([],[]), num, val, cl_num_iterations, cl_learn_rate, cl_regularization, \n",
    "        num_factors, num_iter, learn_rate, regularization, random_seed = 100)\n",
    "        eval = EvalPrequential(model,stream, metrics = [\"Recall@20\"])\n",
    "\n",
    "        start_recommend = datetime.now()\n",
    "        print('start time', start_recommend)\n",
    "\n",
    "        results=eval.EvaluateTime(0,stream.size, 100)\n",
    "\n",
    "        end_recommend = datetime.now()\n",
    "        print('end time', end_recommend)\n",
    "\n",
    "        tempo = end_recommend - start_recommend\n",
    "\n",
    "        tuning[num][val] = np.mean(results['Recall@20'])\n",
    "    \n",
    "        print('npmean(resuls[Recall@20])', tuning[num][val])\n",
    "        print('run time', tempo)\n",
    "        #print('get tuple',np.mean(results['time_get_tuple']))\n",
    "        print('recommend',np.mean(results['time_recommend']))\n",
    "        #print('eval_point',np.mean(results['time_eval_point']))\n",
    "        print('update',np.mean(results['time_update'])) "
   ]
  },
  {
   "cell_type": "code",
   "execution_count": 16,
   "metadata": {},
   "outputs": [
    {
     "name": "stdout",
     "output_type": "stream",
     "text": [
      "\n",
      "num_clusters =  8 , overlap =  0.6\n",
      "start time 2023-11-23 14:06:09.996028\n",
      "end time 2023-11-23 14:07:52.608964\n",
      "npmean(resuls[Recall@20]) 0.16556291390728478\n",
      "run time 0:01:42.612936\n",
      "recommend 0.09387526396357723\n",
      "update 0.0013005809317464415\n",
      "\n",
      "num_clusters =  8 , overlap =  0.7\n",
      "start time 2023-11-23 14:07:52.701231\n",
      "end time 2023-11-23 14:09:45.582559\n",
      "npmean(resuls[Recall@20]) 0.2032520325203252\n",
      "run time 0:01:52.881328\n",
      "recommend 0.0940533731041885\n",
      "update 0.0014421815872192384\n",
      "\n",
      "num_clusters =  8 , overlap =  0.8\n",
      "start time 2023-11-23 14:09:45.672739\n",
      "end time 2023-11-23 14:11:38.409878\n",
      "npmean(resuls[Recall@20]) 0.17142857142857143\n",
      "run time 0:01:52.737139\n",
      "recommend 0.09521657933994215\n",
      "update 0.00143066478293875\n",
      "\n",
      "num_clusters =  16 , overlap =  0.6\n",
      "start time 2023-11-23 14:11:38.494507\n",
      "end time 2023-11-23 14:14:35.146337\n",
      "npmean(resuls[Recall@20]) 0.17647058823529413\n",
      "run time 0:02:56.651830\n",
      "recommend 0.19570797471439136\n",
      "update 0.0020263982700264973\n",
      "\n",
      "num_clusters =  16 , overlap =  0.7\n",
      "start time 2023-11-23 14:14:35.309249\n",
      "end time 2023-11-23 14:17:39.291899\n",
      "npmean(resuls[Recall@20]) 0.19724770642201836\n",
      "run time 0:03:03.982650\n",
      "recommend 0.1903278138659416\n",
      "update 0.0021898660607959915\n",
      "\n",
      "num_clusters =  16 , overlap =  0.8\n",
      "start time 2023-11-23 14:17:39.453341\n",
      "end time 2023-11-23 14:21:05.379355\n",
      "npmean(resuls[Recall@20]) 0.17721518987341772\n",
      "run time 0:03:25.926014\n",
      "recommend 0.19025931026362167\n",
      "update 0.0025101596428000407\n",
      "\n",
      "num_clusters =  24 , overlap =  0.6\n",
      "start time 2023-11-23 14:21:05.552876\n",
      "end time 2023-11-23 14:25:32.191380\n",
      "npmean(resuls[Recall@20]) 0.16973415132924335\n",
      "run time 0:04:26.638504\n",
      "recommend 0.28912337328514925\n",
      "update 0.002717085485873015\n",
      "\n",
      "num_clusters =  24 , overlap =  0.7\n",
      "start time 2023-11-23 14:25:32.375566\n",
      "end time 2023-11-23 14:30:28.327869\n",
      "npmean(resuls[Recall@20]) 0.20964360587002095\n",
      "run time 0:04:55.952303\n",
      "recommend 0.3118108048628961\n",
      "update 0.0031944530165713765\n",
      "\n",
      "num_clusters =  24 , overlap =  0.8\n",
      "start time 2023-11-23 14:30:28.584769\n",
      "end time 2023-11-23 14:35:32.427766\n",
      "npmean(resuls[Recall@20]) 0.20090293453724606\n",
      "run time 0:05:03.842997\n",
      "recommend 0.32189599493556315\n",
      "update 0.0034992495360581773\n",
      "\n"
     ]
    }
   ],
   "source": [
    "print(out)"
   ]
  },
  {
   "cell_type": "code",
   "execution_count": 17,
   "metadata": {},
   "outputs": [
    {
     "data": {
      "text/plain": [
       "{8: {0.6: 0.16556291390728478,\n",
       "  0.7: 0.2032520325203252,\n",
       "  0.8: 0.17142857142857143},\n",
       " 16: {0.6: 0.17647058823529413,\n",
       "  0.7: 0.19724770642201836,\n",
       "  0.8: 0.17721518987341772},\n",
       " 24: {0.6: 0.16973415132924335,\n",
       "  0.7: 0.20964360587002095,\n",
       "  0.8: 0.20090293453724606}}"
      ]
     },
     "execution_count": 17,
     "metadata": {},
     "output_type": "execute_result"
    }
   ],
   "source": [
    "tuning"
   ]
  },
  {
   "cell_type": "code",
   "execution_count": null,
   "metadata": {},
   "outputs": [],
   "source": []
  }
 ],
 "metadata": {
  "kernelspec": {
   "display_name": "Python Base Conda",
   "language": "python",
   "name": "python-base-conda"
  },
  "language_info": {
   "codemirror_mode": {
    "name": "ipython",
    "version": 3
   },
   "file_extension": ".py",
   "mimetype": "text/x-python",
   "name": "python",
   "nbconvert_exporter": "python",
   "pygments_lexer": "ipython3",
   "version": "3.7.6"
  }
 },
 "nbformat": 4,
 "nbformat_minor": 4
}
