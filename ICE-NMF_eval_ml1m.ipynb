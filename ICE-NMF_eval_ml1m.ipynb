{
 "cells": [
  {
   "cell_type": "markdown",
   "metadata": {},
   "source": [
    "# ICE-NMF Evaluation ml1m"
   ]
  },
  {
   "cell_type": "code",
   "execution_count": 1,
   "metadata": {},
   "outputs": [],
   "source": [
    "#imports\n",
    "import numpy as np \n",
    "import csv\n",
    "import re\n",
    "import sys\n",
    "import math\n",
    "import matplotlib.pyplot as plt\n",
    "from numpy import linalg as L\n",
    "import pandas as pd\n",
    "import random\n",
    "from sklearn.preprocessing import normalize\n",
    "from numba import njit\n",
    "from collections import defaultdict\n",
    "import random\n",
    "from implicit_data import ImplicitData\n",
    "import pandas as pd\n",
    "from BISGD import BISGD\n",
    "from ICE_NMF import ICE_NMF\n",
    "from collections import defaultdict\n",
    "from EvalPrequential import EvalPrequential\n",
    "from datetime import datetime\n",
    "import getopt"
   ]
  },
  {
   "cell_type": "markdown",
   "metadata": {},
   "source": [
    "## Functions\n"
   ]
  },
  {
   "cell_type": "code",
   "execution_count": 2,
   "metadata": {},
   "outputs": [],
   "source": [
    "def sigmoid(x):\n",
    "  return 1 / (1 + math.exp(-x))\n",
    "\n",
    "def sumvector(V,x):\n",
    "    result = []\n",
    "    for v in V:\n",
    "        temp = v + x\n",
    "        result.append(temp)\n",
    "    return result    \n",
    "\n",
    "def multvector(x,V):\n",
    "    result = []\n",
    "    for v in V:\n",
    "        temp = v * x\n",
    "        result.append(temp)\n",
    "    return result    \n",
    "\n",
    "def TransformVec(V):\n",
    "    for i in range(len(V)):\n",
    "        V[i] = sigmoid(V[i])\n",
    "    D = LA.norm(V)\n",
    "    D=1/D\n",
    "    new = D * V\n",
    "  \n",
    "\n",
    "    return new\n"
   ]
  },
  {
   "cell_type": "markdown",
   "metadata": {},
   "source": [
    "## Get the data"
   ]
  },
  {
   "cell_type": "code",
   "execution_count": 3,
   "metadata": {},
   "outputs": [
    {
     "name": "stdout",
     "output_type": "stream",
     "text": [
      "        UserID  ItemID   Timestamp\n",
      "0         6040     593   956703954\n",
      "1         6040    2019   956703977\n",
      "2         6040     213   956704056\n",
      "3         6040    3111   956704056\n",
      "4         6040     912   956704191\n",
      "...        ...     ...         ...\n",
      "226305    5950    3363  1046367948\n",
      "226306    5950     111  1046368241\n",
      "226307    5950    3196  1046368462\n",
      "226308    5948    1180  1046437879\n",
      "226309    4958    1407  1046454443\n",
      "\n",
      "[226310 rows x 3 columns]\n"
     ]
    }
   ],
   "source": [
    "sys.path.append('./')\n",
    "configPath = 'config'\n",
    "dataPath = 'ml1m_gte5.csv'\n",
    "\n",
    "\n",
    "Data = []\n",
    "data = pd.read_csv(\"ml1m_gte5.csv\",\"\\t\")\n",
    "print(data)\n",
    "Data = data.values.tolist()\n",
    "\n"
   ]
  },
  {
   "cell_type": "markdown",
   "metadata": {},
   "source": [
    "# Full dataset"
   ]
  },
  {
   "cell_type": "code",
   "execution_count": 6,
   "metadata": {},
   "outputs": [],
   "source": [
    "Data_Transpose = np.transpose(Data)\n",
    "stream = ImplicitData(Data_Transpose[0],Data_Transpose[1])\n",
    "\n",
    "\n",
    "\n",
    "num_clusters = {8,16,24}\n",
    "overlap = 0.7\n",
    "cl_num_iterations = 10\n",
    "cl_learn_rate =0.1\n",
    "cl_regularization = 0.1\n",
    "num_factors = 160\n",
    "num_iter = 8\n",
    "learn_rate = 0.1\n",
    "regularization = 0.4\n"
   ]
  },
  {
   "cell_type": "code",
   "execution_count": null,
   "metadata": {},
   "outputs": [],
   "source": [
    "%%capture out\n",
    "\n",
    "res = {}\n",
    "\n",
    "for num in num_clusters:\n",
    "    print('')\n",
    "    print('num_clusters: ', num)\n",
    "    model = ICE_NMF(ImplicitData([],[]), num, overlap, cl_num_iterations, cl_learn_rate, cl_regularization, \n",
    "        num_factors, num_iter, learn_rate, regularization, random_seed = 100)\n",
    "    eval = EvalPrequential(model,stream, metrics = [\"Recall@20\"])\n",
    "\n",
    "    start_recommend = datetime.now()\n",
    "    print('start time', start_recommend)\n",
    "\n",
    "    results=eval.EvaluateTime(0,stream.size, 1)\n",
    "    res[num] = np.mean(results['Recall@20'])\n",
    "    \n",
    "    print('npmean(resuls[Recall@20])', res[num])\n",
    "    end_recommend = datetime.now()\n",
    "    print('end time', end_recommend)\n",
    "\n",
    "    tempo = end_recommend - start_recommend\n",
    "\n",
    "    print('run time', tempo)\n",
    "    print('recommend',np.mean(results['time_recommend']))\n",
    "    print('update',np.mean(results['time_update'])) "
   ]
  },
  {
   "cell_type": "code",
   "execution_count": 6,
   "metadata": {},
   "outputs": [
    {
     "name": "stdout",
     "output_type": "stream",
     "text": [
      "start time 2023-10-20 17:14:17.968296\n",
      "npmean(resuls[Recall@20]) 0.06570472439204453\n",
      "end time 2023-10-20 23:54:29.235004\n",
      "run time 6:40:11.266708\n",
      "\n",
      "get tuple 4.492414534410635e-06\n",
      "recommend 0.10413758091748473\n",
      "eval_point 7.329267204837828e-05\n",
      "update 0.0019220208559132756\n",
      "\n"
     ]
    }
   ],
   "source": [
    "print(out)"
   ]
  },
  {
   "cell_type": "markdown",
   "metadata": {},
   "source": [
    "## Sampled datasets"
   ]
  },
  {
   "cell_type": "markdown",
   "metadata": {},
   "source": [
    "### ml1m_sample5_1"
   ]
  },
  {
   "cell_type": "code",
   "execution_count": 4,
   "metadata": {},
   "outputs": [
    {
     "name": "stdout",
     "output_type": "stream",
     "text": [
      "       Unnamed: 0  UserID  ItemID   Timestamp\n",
      "0             365    6029     899   956721639\n",
      "1             366    6029    3548   956721700\n",
      "2             367    6029    3545   956721732\n",
      "3             368    6029    3543   956721759\n",
      "4             369    6029    3549   956721780\n",
      "...           ...     ...     ...         ...\n",
      "11252      225903     937    2300  1042909231\n",
      "11253      225935     195    3746  1043562457\n",
      "11254      226240    4312     750  1045841700\n",
      "11255      226241    4312    1267  1045841716\n",
      "11256      226267     911    2409  1046066544\n",
      "\n",
      "[11257 rows x 4 columns]\n"
     ]
    }
   ],
   "source": [
    "sys.path.append('./')\n",
    "configPath = 'config'\n",
    "\n",
    "Data = []\n",
    "data = pd.read_csv(\"ml1m_sample5_1.csv\")\n",
    "print(data)\n",
    "Data = data.values.tolist()\n",
    "\n",
    "Data = Data[1:]\n",
    " "
   ]
  },
  {
   "cell_type": "code",
   "execution_count": 6,
   "metadata": {},
   "outputs": [
    {
     "name": "stdout",
     "output_type": "stream",
     "text": [
      "start time 2022-09-19 23:54:08.876029\n",
      "npmean(resuls[Recall@20]) 0.08955223880597014\n",
      "end time 2022-09-19 23:54:58.153788\n",
      "run time 0:00:49.277759\n",
      "\n",
      "get tuple 2.5253390791404306e-06\n",
      "recommend 0.020040606908153503\n",
      "eval_point 1.707445434355966e-05\n",
      "update 0.002342325050778311\n"
     ]
    }
   ],
   "source": [
    "Data_Transpose = np.transpose(Data)\n",
    "stream = ImplicitData(Data_Transpose[1],Data_Transpose[2])\n",
    "\n",
    "\n",
    "\n",
    "num_clusters = 8\n",
    "cl_num_iterations = 20\n",
    "cl_learn_rate =0.1\n",
    "cl_regularization = 0.1\n",
    "num_factors = 160\n",
    "num_iter = 8\n",
    "learn_rate = 0.1\n",
    "regularization = 0.4\n",
    "model = ICE_NMF(ImplicitData([],[]), num_clusters, cl_num_iterations, cl_learn_rate, cl_regularization, \n",
    "    num_factors, num_iter, learn_rate, regularization, random_seed = 100)\n",
    "eval = EvalPrequential(model,stream, metrics = [\"Recall@20\"])\n",
    "start_recommend = datetime.now()\n",
    "print('start time', start_recommend)\n",
    "\n",
    "results=eval.EvaluateTime(0,stream.size, 10)\n",
    "\n",
    "print('npmean(resuls[Recall@20])', np.mean(results['Recall@20']))\n",
    "end_recommend = datetime.now()\n",
    "print('end time', end_recommend)\n",
    "\n",
    "tempo = end_recommend - start_recommend\n",
    "\n",
    "print('run time', tempo)\n",
    "print('')\n",
    "print('get tuple',np.mean(results['time_get_tuple']))\n",
    "print('recommend',np.mean(results['time_recommend']))\n",
    "print('eval_point',np.mean(results['time_eval_point']))\n",
    "print('update',np.mean(results['time_update'])) "
   ]
  },
  {
   "cell_type": "markdown",
   "metadata": {},
   "source": [
    "### ml1m_sample5_2"
   ]
  },
  {
   "cell_type": "code",
   "execution_count": 7,
   "metadata": {},
   "outputs": [
    {
     "name": "stdout",
     "output_type": "stream",
     "text": [
      "       Unnamed: 0  UserID  ItemID   Timestamp\n",
      "0             206    6033    1193   956713500\n",
      "1             207    6033    1214   956713838\n",
      "2             208    6033    2028   956713838\n",
      "3             209    6033     110   956713865\n",
      "4             210    6033    1036   956713898\n",
      "...           ...     ...     ...         ...\n",
      "11037      226258    5329    1212  1045895993\n",
      "11038      226259    5329    2692  1045896006\n",
      "11039      226260    5329     942  1045896053\n",
      "11040      226261    5329    2019  1045896053\n",
      "11041      226262    5329    3035  1045896063\n",
      "\n",
      "[11042 rows x 4 columns]\n"
     ]
    }
   ],
   "source": [
    "sys.path.append('./')\n",
    "configPath = 'config'\n",
    "\n",
    "Data = []\n",
    "data = pd.read_csv(\"ml1m_sample5_2.csv\")\n",
    "print(data)\n",
    "Data = data.values.tolist()\n",
    "\n",
    "Data = Data[1:]\n",
    " "
   ]
  },
  {
   "cell_type": "code",
   "execution_count": 8,
   "metadata": {},
   "outputs": [
    {
     "name": "stdout",
     "output_type": "stream",
     "text": [
      "start time 2022-09-20 00:00:59.102854\n",
      "npmean(resuls[Recall@20]) 0.08310749774164408\n",
      "end time 2022-09-20 00:01:49.000006\n",
      "run time 0:00:49.897152\n",
      "\n",
      "get tuple 2.5987862655298293e-06\n",
      "recommend 0.02167174163549573\n",
      "eval_point 1.8516099442203733e-05\n",
      "update 0.002338107713440732\n"
     ]
    }
   ],
   "source": [
    "Data_Transpose = np.transpose(Data)\n",
    "stream = ImplicitData(Data_Transpose[1],Data_Transpose[2])\n",
    "\n",
    "\n",
    "\n",
    "num_clusters = 8\n",
    "cl_num_iterations = 20\n",
    "cl_learn_rate =0.1\n",
    "cl_regularization = 0.1\n",
    "num_factors = 160\n",
    "num_iter = 8\n",
    "learn_rate = 0.1\n",
    "regularization = 0.4\n",
    "model = ICE_NMF(ImplicitData([],[]), num_clusters, cl_num_iterations, cl_learn_rate, cl_regularization, \n",
    "    num_factors, num_iter, learn_rate, regularization, random_seed = 100)\n",
    "eval = EvalPrequential(model,stream, metrics = [\"Recall@20\"])\n",
    "start_recommend = datetime.now()\n",
    "print('start time', start_recommend)\n",
    "\n",
    "results=eval.EvaluateTime(0,stream.size, 10)\n",
    "\n",
    "print('npmean(resuls[Recall@20])', np.mean(results['Recall@20']))\n",
    "end_recommend = datetime.now()\n",
    "print('end time', end_recommend)\n",
    "\n",
    "tempo = end_recommend - start_recommend\n",
    "\n",
    "print('run time', tempo)\n",
    "print('')\n",
    "print('get tuple',np.mean(results['time_get_tuple']))\n",
    "print('recommend',np.mean(results['time_recommend']))\n",
    "print('eval_point',np.mean(results['time_eval_point']))\n",
    "print('update',np.mean(results['time_update'])) "
   ]
  },
  {
   "cell_type": "markdown",
   "metadata": {},
   "source": [
    "### ml1m_sample5_3"
   ]
  },
  {
   "cell_type": "code",
   "execution_count": 9,
   "metadata": {},
   "outputs": [
    {
     "name": "stdout",
     "output_type": "stream",
     "text": [
      "       Unnamed: 0  UserID  ItemID   Timestamp\n",
      "0             110    6035    1193   956710879\n",
      "1             120    6035    2628   956711024\n",
      "2             123    6035    3175   956711064\n",
      "3             124    6035    2571   956711064\n",
      "4             129    6035    1527   956711121\n",
      "...           ...     ...     ...         ...\n",
      "11544      226173    5654    1500  1045160087\n",
      "11545      226174    5654      39  1045160173\n",
      "11546      226175    5654    3358  1045160206\n",
      "11547      226176    5654    3526  1045162240\n",
      "11548      226203    5654    2022  1045669508\n",
      "\n",
      "[11549 rows x 4 columns]\n"
     ]
    }
   ],
   "source": [
    "sys.path.append('./')\n",
    "configPath = 'config'\n",
    "\n",
    "Data = []\n",
    "data = pd.read_csv(\"ml1m_sample5_3.csv\")\n",
    "print(data)\n",
    "Data = data.values.tolist()\n",
    "\n",
    "Data = Data[1:]"
   ]
  },
  {
   "cell_type": "code",
   "execution_count": 10,
   "metadata": {},
   "outputs": [
    {
     "name": "stdout",
     "output_type": "stream",
     "text": [
      "start time 2022-09-20 00:02:59.329939\n",
      "npmean(resuls[Recall@20]) 0.08608695652173913\n",
      "end time 2022-09-20 00:03:50.716054\n",
      "run time 0:00:51.386115\n",
      "\n",
      "get tuple 2.5845333742855904e-06\n",
      "recommend 0.021488810000212296\n",
      "eval_point 1.7172357310419497e-05\n",
      "update 0.002302042910249166\n"
     ]
    }
   ],
   "source": [
    "Data_Transpose = np.transpose(Data)\n",
    "stream = ImplicitData(Data_Transpose[1],Data_Transpose[2])\n",
    "\n",
    "\n",
    "\n",
    "num_clusters = 8\n",
    "cl_num_iterations = 20\n",
    "cl_learn_rate =0.1\n",
    "cl_regularization = 0.1\n",
    "num_factors = 160\n",
    "num_iter = 8\n",
    "learn_rate = 0.1\n",
    "regularization = 0.4\n",
    "model = ICE_NMF(ImplicitData([],[]), num_clusters, cl_num_iterations, cl_learn_rate, cl_regularization, \n",
    "    num_factors, num_iter, learn_rate, regularization, random_seed = 100)\n",
    "eval = EvalPrequential(model,stream, metrics = [\"Recall@20\"])\n",
    "start_recommend = datetime.now()\n",
    "print('start time', start_recommend)\n",
    "\n",
    "results=eval.EvaluateTime(0,stream.size, 10)\n",
    "\n",
    "print('npmean(resuls[Recall@20])', np.mean(results['Recall@20']))\n",
    "end_recommend = datetime.now()\n",
    "print('end time', end_recommend)\n",
    "\n",
    "tempo = end_recommend - start_recommend\n",
    "\n",
    "print('run time', tempo)\n",
    "print('')\n",
    "print('get tuple',np.mean(results['time_get_tuple']))\n",
    "print('recommend',np.mean(results['time_recommend']))\n",
    "print('eval_point',np.mean(results['time_eval_point']))\n",
    "print('update',np.mean(results['time_update'])) "
   ]
  },
  {
   "cell_type": "markdown",
   "metadata": {},
   "source": [
    "### ml1m_sample5_4"
   ]
  },
  {
   "cell_type": "code",
   "execution_count": 11,
   "metadata": {},
   "outputs": [
    {
     "name": "stdout",
     "output_type": "stream",
     "text": [
      "       Unnamed: 0  UserID  ItemID   Timestamp\n",
      "0              42    6038    1079   956707547\n",
      "1              43    6038    1148   956707604\n",
      "2              44    6038    3088   956707640\n",
      "3              45    6038    1223   956707734\n",
      "4             206    6033    1193   956713500\n",
      "...           ...     ...     ...         ...\n",
      "11461      226168    4958    2087  1045000073\n",
      "11462      226242     839     909  1045857499\n",
      "11463      226243     839     750  1045857818\n",
      "11464      226244     839     954  1045859395\n",
      "11465      226310    4958    1407  1046454443\n",
      "\n",
      "[11466 rows x 4 columns]\n"
     ]
    }
   ],
   "source": [
    "sys.path.append('./')\n",
    "configPath = 'config'\n",
    "\n",
    "Data = []\n",
    "data = pd.read_csv(\"ml1m_sample5_4.csv\")\n",
    "print(data)\n",
    "Data = data.values.tolist()\n",
    "\n",
    "Data = Data[1:]"
   ]
  },
  {
   "cell_type": "code",
   "execution_count": 12,
   "metadata": {},
   "outputs": [
    {
     "name": "stdout",
     "output_type": "stream",
     "text": [
      "start time 2022-09-20 00:05:35.472921\n",
      "npmean(resuls[Recall@20]) 0.09075043630017451\n",
      "end time 2022-09-20 00:06:23.909959\n",
      "run time 0:00:48.437038\n",
      "\n",
      "get tuple 2.4059793078842197e-06\n",
      "recommend 0.019503940462441968\n",
      "eval_point 1.6742975924027528e-05\n",
      "update 0.0022677946236265628\n"
     ]
    }
   ],
   "source": [
    "Data_Transpose = np.transpose(Data)\n",
    "stream = ImplicitData(Data_Transpose[1],Data_Transpose[2])\n",
    "\n",
    "\n",
    "\n",
    "num_clusters = 8\n",
    "cl_num_iterations = 20\n",
    "cl_learn_rate =0.1\n",
    "cl_regularization = 0.1\n",
    "num_factors = 160\n",
    "num_iter = 8\n",
    "learn_rate = 0.1\n",
    "regularization = 0.4\n",
    "model = ICE_NMF(ImplicitData([],[]), num_clusters, cl_num_iterations, cl_learn_rate, cl_regularization, \n",
    "    num_factors, num_iter, learn_rate, regularization, random_seed = 100)\n",
    "eval = EvalPrequential(model,stream, metrics = [\"Recall@20\"])\n",
    "start_recommend = datetime.now()\n",
    "print('start time', start_recommend)\n",
    "\n",
    "results=eval.EvaluateTime(0,stream.size, 10)\n",
    "\n",
    "print('npmean(resuls[Recall@20])', np.mean(results['Recall@20']))\n",
    "end_recommend = datetime.now()\n",
    "print('end time', end_recommend)\n",
    "\n",
    "tempo = end_recommend - start_recommend\n",
    "\n",
    "print('run time', tempo)\n",
    "print('')\n",
    "print('get tuple',np.mean(results['time_get_tuple']))\n",
    "print('recommend',np.mean(results['time_recommend']))\n",
    "print('eval_point',np.mean(results['time_eval_point']))\n",
    "print('update',np.mean(results['time_update'])) "
   ]
  },
  {
   "cell_type": "markdown",
   "metadata": {},
   "source": [
    "### ml1m_sample5_5"
   ]
  },
  {
   "cell_type": "code",
   "execution_count": 13,
   "metadata": {},
   "outputs": [
    {
     "name": "stdout",
     "output_type": "stream",
     "text": [
      "       Unnamed: 0  UserID  ItemID   Timestamp\n",
      "0               1    6040     593   956703954\n",
      "1               2    6040    2019   956703977\n",
      "2               3    6040     213   956704056\n",
      "3               4    6040    3111   956704056\n",
      "4               5    6040     912   956704191\n",
      "...           ...     ...     ...         ...\n",
      "11050      226029     424    1935  1043844911\n",
      "11051      226054     424    1939  1044296801\n",
      "11052      226201     424    3739  1045581875\n",
      "11053      226239     424    2494  1045837566\n",
      "11054      226279     424    3535  1046112575\n",
      "\n",
      "[11055 rows x 4 columns]\n"
     ]
    }
   ],
   "source": [
    "sys.path.append('./')\n",
    "configPath = 'config'\n",
    "\n",
    "Data = []\n",
    "data = pd.read_csv(\"ml1m_sample5_5.csv\")\n",
    "print(data)\n",
    "Data = data.values.tolist()\n",
    "\n",
    "Data = Data[1:]"
   ]
  },
  {
   "cell_type": "code",
   "execution_count": 14,
   "metadata": {},
   "outputs": [
    {
     "name": "stdout",
     "output_type": "stream",
     "text": [
      "start time 2022-09-20 00:08:02.496520\n",
      "npmean(resuls[Recall@20]) 0.09202453987730061\n",
      "end time 2022-09-20 00:08:49.424471\n",
      "run time 0:00:46.927951\n",
      "\n",
      "get tuple 2.475377554399143e-06\n",
      "recommend 0.01944007443086188\n",
      "eval_point 1.6784375430616134e-05\n",
      "update 0.0022310630223063895\n"
     ]
    }
   ],
   "source": [
    "Data_Transpose = np.transpose(Data)\n",
    "stream = ImplicitData(Data_Transpose[1],Data_Transpose[2])\n",
    "\n",
    "\n",
    "\n",
    "num_clusters = 8\n",
    "cl_num_iterations = 20\n",
    "cl_learn_rate =0.1\n",
    "cl_regularization = 0.1\n",
    "num_factors = 160\n",
    "num_iter = 8\n",
    "learn_rate = 0.1\n",
    "regularization = 0.4\n",
    "model = ICE_NMF(ImplicitData([],[]), num_clusters, cl_num_iterations, cl_learn_rate, cl_regularization, \n",
    "    num_factors, num_iter, learn_rate, regularization, random_seed = 100)\n",
    "eval = EvalPrequential(model,stream, metrics = [\"Recall@20\"])\n",
    "start_recommend = datetime.now()\n",
    "print('start time', start_recommend)\n",
    "\n",
    "results=eval.EvaluateTime(0,stream.size, 10)\n",
    "\n",
    "print('npmean(resuls[Recall@20])', np.mean(results['Recall@20']))\n",
    "end_recommend = datetime.now()\n",
    "print('end time', end_recommend)\n",
    "\n",
    "tempo = end_recommend - start_recommend\n",
    "\n",
    "print('run time', tempo)\n",
    "print('')\n",
    "print('get tuple',np.mean(results['time_get_tuple']))\n",
    "print('recommend',np.mean(results['time_recommend']))\n",
    "print('eval_point',np.mean(results['time_eval_point']))\n",
    "print('update',np.mean(results['time_update'])) "
   ]
  }
 ],
 "metadata": {
  "kernelspec": {
   "display_name": "Python Base Conda",
   "language": "python",
   "name": "python-base-conda"
  },
  "language_info": {
   "codemirror_mode": {
    "name": "ipython",
    "version": 3
   },
   "file_extension": ".py",
   "mimetype": "text/x-python",
   "name": "python",
   "nbconvert_exporter": "python",
   "pygments_lexer": "ipython3",
   "version": "3.7.6"
  }
 },
 "nbformat": 4,
 "nbformat_minor": 4
}
