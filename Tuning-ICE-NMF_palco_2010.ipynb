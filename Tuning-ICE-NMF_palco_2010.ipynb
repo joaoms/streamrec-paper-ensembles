{
 "cells": [
  {
   "cell_type": "markdown",
   "metadata": {},
   "source": [
    "# ICE-NMF Hyperparameter tuning palco_2010"
   ]
  },
  {
   "cell_type": "code",
   "execution_count": 7,
   "metadata": {},
   "outputs": [],
   "source": [
    "#imports\n",
    "import numpy as np \n",
    "import csv\n",
    "import re\n",
    "import sys\n",
    "import math\n",
    "import matplotlib.pyplot as plt\n",
    "from numpy import linalg as L\n",
    "import pandas as pd\n",
    "import random\n",
    "from sklearn.preprocessing import normalize\n",
    "from numba import njit\n",
    "from collections import defaultdict\n",
    "import random\n",
    "from implicit_data import ImplicitData\n",
    "import pandas as pd\n",
    "from BISGD import BISGD\n",
    "from ICE_NMF import ICE_NMF\n",
    "from collections import defaultdict\n",
    "from EvalPrequential import EvalPrequential\n",
    "from datetime import datetime\n",
    "import getopt"
   ]
  },
  {
   "cell_type": "markdown",
   "metadata": {},
   "source": [
    "## Functions\n"
   ]
  },
  {
   "cell_type": "code",
   "execution_count": 8,
   "metadata": {},
   "outputs": [],
   "source": [
    "def sigmoid(x):\n",
    "  return 1 / (1 + math.exp(-x))\n",
    "\n",
    "def sumvector(V,x):\n",
    "    result = []\n",
    "    for v in V:\n",
    "        temp = v + x\n",
    "        result.append(temp)\n",
    "    return result    \n",
    "\n",
    "def multvector(x,V):\n",
    "    result = []\n",
    "    for v in V:\n",
    "        temp = v * x\n",
    "        result.append(temp)\n",
    "    return result    \n",
    "\n",
    "def TransformVec(V):\n",
    "  \n",
    "    #new = normalize(V[:,np.newaxis], axis=0).ravel()\n",
    "    for i in range(len(V)):\n",
    "        V[i] = sigmoid(V[i])\n",
    "    D = LA.norm(V)\n",
    "    D=1/D\n",
    "    new = D * V\n",
    "  \n",
    "\n",
    "    return new\n"
   ]
  },
  {
   "cell_type": "markdown",
   "metadata": {},
   "source": [
    "## Get the data"
   ]
  },
  {
   "cell_type": "code",
   "execution_count": 9,
   "metadata": {},
   "outputs": [
    {
     "name": "stdout",
     "output_type": "stream",
     "text": [
      "        user_id  track_id            timestamp\n",
      "0          4220     31313  2010-01-01 00:10:36\n",
      "1          4220     29567  2010-01-01 00:13:07\n",
      "2          4220     31313  2010-01-01 00:13:18\n",
      "3          3970     34925  2010-01-01 00:39:21\n",
      "4          6258     18106  2010-01-01 00:46:25\n",
      "...         ...       ...                  ...\n",
      "588846    51303     37059  2010-12-31 23:43:41\n",
      "588847    56256     66353  2010-12-31 23:44:15\n",
      "588848    51303     12801  2010-12-31 23:46:58\n",
      "588849    51303     12800  2010-12-31 23:51:12\n",
      "588850    51303      4126  2010-12-31 23:57:07\n",
      "\n",
      "[588851 rows x 3 columns]\n"
     ]
    }
   ],
   "source": [
    "sys.path.append('./')\n",
    "configPath = 'config'\n",
    "dataPath = 'palco_2010.tsv'\n",
    "\n",
    "\n",
    "Data = []\n",
    "data = pd.read_csv(\"palco_2010.tsv\",\"\\t\")\n",
    "\n",
    "Data = data.values.tolist()\n",
    "\n",
    "print(data)\n",
    "\n"
   ]
  },
  {
   "cell_type": "markdown",
   "metadata": {},
   "source": [
    "# Full dataset"
   ]
  },
  {
   "cell_type": "code",
   "execution_count": 10,
   "metadata": {},
   "outputs": [],
   "source": [
    "\n",
    "\n",
    "Data_Transpose = np.transpose(Data[:50000])\n",
    "stream = ImplicitData(Data_Transpose[0],Data_Transpose[1])\n",
    "\n",
    "num_clusters = {8,16,24}\n",
    "cl_num_iterations = 10\n",
    "cl_learn_rate = 0.1\n",
    "cl_regularization = 0.1\n",
    "num_factors = 160\n",
    "num_iter = 4\n",
    "learn_rate = 0.5\n",
    "regularization = 0.4\n",
    "overlap = {0.6,0.7,0.8}\n",
    "\n"
   ]
  },
  {
   "cell_type": "code",
   "execution_count": 11,
   "metadata": {},
   "outputs": [],
   "source": [
    "%%capture out\n",
    "\n",
    "tuning = {}\n",
    "\n",
    "for num in num_clusters:\n",
    "    tuning[num] = {}\n",
    "    \n",
    "    \n",
    "    for val in overlap:\n",
    "\n",
    "        print(\"\")\n",
    "        print(\"num_clusters = \", num, \", overlap = \", val)\n",
    "        model = ICE_NMF(ImplicitData([],[]), num, val, cl_num_iterations, cl_learn_rate, cl_regularization, \n",
    "        num_factors, num_iter, learn_rate, regularization, random_seed = 100)\n",
    "        eval = EvalPrequential(model,stream, metrics = [\"Recall@20\"])\n",
    "\n",
    "        start_recommend = datetime.now()\n",
    "        print('start time', start_recommend)\n",
    "\n",
    "        results=eval.EvaluateTime(0,stream.size, 100)\n",
    "\n",
    "        end_recommend = datetime.now()\n",
    "        print('end time', end_recommend)\n",
    "\n",
    "        tempo = end_recommend - start_recommend\n",
    "\n",
    "        tuning[num][val] = np.mean(results['Recall@20'])\n",
    "    \n",
    "        print('npmean(resuls[Recall@20])', tuning[num][val])\n",
    "        print('run time', tempo)\n",
    "        #print('get tuple',np.mean(results['time_get_tuple']))\n",
    "        print('recommend',np.mean(results['time_recommend']))\n",
    "        #print('eval_point',np.mean(results['time_eval_point']))\n",
    "        print('update',np.mean(results['time_update'])) "
   ]
  },
  {
   "cell_type": "code",
   "execution_count": 12,
   "metadata": {},
   "outputs": [
    {
     "name": "stdout",
     "output_type": "stream",
     "text": [
      "\n",
      "num_clusters =  8 , overlap =  0.6\n",
      "start time 2023-11-23 13:01:57.783904\n",
      "end time 2023-11-23 13:03:35.108638\n",
      "npmean(resuls[Recall@20]) 0.22745901639344263\n",
      "run time 0:01:37.324734\n",
      "recommend 0.10179919004440308\n",
      "update 0.0009449359273910522\n",
      "\n",
      "num_clusters =  8 , overlap =  0.7\n",
      "start time 2023-11-23 13:03:35.173760\n",
      "end time 2023-11-23 13:05:32.281070\n",
      "npmean(resuls[Recall@20]) 0.23366336633663368\n",
      "run time 0:01:57.107310\n",
      "recommend 0.12152031719094455\n",
      "update 0.0011064303302764894\n",
      "\n",
      "num_clusters =  8 , overlap =  0.8\n",
      "start time 2023-11-23 13:05:32.332144\n",
      "end time 2023-11-23 13:07:46.104822\n",
      "npmean(resuls[Recall@20]) 0.1947261663286004\n",
      "run time 0:02:13.772678\n",
      "recommend 0.146398170482798\n",
      "update 0.0012232240295410157\n",
      "\n",
      "num_clusters =  16 , overlap =  0.6\n",
      "start time 2023-11-23 13:07:46.157115\n",
      "end time 2023-11-23 13:11:14.999350\n",
      "npmean(resuls[Recall@20]) 0.21935483870967742\n",
      "run time 0:03:28.842235\n",
      "recommend 0.28314071983419437\n",
      "update 0.0015340789985656739\n",
      "\n",
      "num_clusters =  16 , overlap =  0.7\n",
      "start time 2023-11-23 13:11:15.125093\n",
      "end time 2023-11-23 13:15:04.907139\n",
      "npmean(resuls[Recall@20]) 0.24795081967213115\n",
      "run time 0:03:49.782046\n",
      "recommend 0.3015804588794708\n",
      "update 0.0016422254705429078\n",
      "\n",
      "num_clusters =  16 , overlap =  0.8\n",
      "start time 2023-11-23 13:15:05.020624\n",
      "end time 2023-11-23 13:18:49.303963\n",
      "npmean(resuls[Recall@20]) 0.24748490945674045\n",
      "run time 0:03:44.283339\n",
      "recommend 0.27449060733649333\n",
      "update 0.0017464475202560424\n",
      "\n",
      "num_clusters =  24 , overlap =  0.6\n",
      "start time 2023-11-23 13:18:49.406818\n",
      "end time 2023-11-23 13:24:08.993403\n",
      "npmean(resuls[Recall@20]) 0.1892430278884462\n",
      "run time 0:05:19.586585\n",
      "recommend 0.44988914219981646\n",
      "update 0.0018654713964462281\n",
      "\n",
      "num_clusters =  24 , overlap =  0.7\n",
      "start time 2023-11-23 13:24:09.148669\n",
      "end time 2023-11-23 13:29:33.720326\n",
      "npmean(resuls[Recall@20]) 0.24324324324324326\n",
      "run time 0:05:24.571657\n",
      "recommend 0.46592030554947883\n",
      "update 0.0019988573360443115\n",
      "\n",
      "num_clusters =  24 , overlap =  0.8\n",
      "start time 2023-11-23 13:29:33.877749\n",
      "end time 2023-11-23 13:35:01.966416\n",
      "npmean(resuls[Recall@20]) 0.2504930966469428\n",
      "run time 0:05:28.088667\n",
      "recommend 0.43293114432686647\n",
      "update 0.0021625847721099853\n",
      "\n"
     ]
    }
   ],
   "source": [
    "print(out)"
   ]
  },
  {
   "cell_type": "code",
   "execution_count": 13,
   "metadata": {},
   "outputs": [
    {
     "data": {
      "text/plain": [
       "{8: {0.6: 0.22745901639344263,\n",
       "  0.7: 0.23366336633663368,\n",
       "  0.8: 0.1947261663286004},\n",
       " 16: {0.6: 0.21935483870967742,\n",
       "  0.7: 0.24795081967213115,\n",
       "  0.8: 0.24748490945674045},\n",
       " 24: {0.6: 0.1892430278884462,\n",
       "  0.7: 0.24324324324324326,\n",
       "  0.8: 0.2504930966469428}}"
      ]
     },
     "execution_count": 13,
     "metadata": {},
     "output_type": "execute_result"
    }
   ],
   "source": [
    "tuning"
   ]
  },
  {
   "cell_type": "code",
   "execution_count": null,
   "metadata": {},
   "outputs": [],
   "source": []
  }
 ],
 "metadata": {
  "kernelspec": {
   "display_name": "Python Base Conda",
   "language": "python",
   "name": "python-base-conda"
  },
  "language_info": {
   "codemirror_mode": {
    "name": "ipython",
    "version": 3
   },
   "file_extension": ".py",
   "mimetype": "text/x-python",
   "name": "python",
   "nbconvert_exporter": "python",
   "pygments_lexer": "ipython3",
   "version": "3.7.6"
  }
 },
 "nbformat": 4,
 "nbformat_minor": 4
}
